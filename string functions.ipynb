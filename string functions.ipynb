{
 "cells": [
  {
   "cell_type": "markdown",
   "id": "0f245e77",
   "metadata": {},
   "source": [
    "string functions"
   ]
  },
  {
   "cell_type": "code",
   "execution_count": 2,
   "id": "025dc3c1",
   "metadata": {},
   "outputs": [],
   "source": [
    "#tuples are immutable "
   ]
  },
  {
   "cell_type": "code",
   "execution_count": 3,
   "id": "dfc863aa",
   "metadata": {},
   "outputs": [],
   "source": [
    "tup = (1,2,3)"
   ]
  },
  {
   "cell_type": "code",
   "execution_count": 5,
   "id": "394f5818",
   "metadata": {},
   "outputs": [
    {
     "name": "stdout",
     "output_type": "stream",
     "text": [
      "(1, 2, 3)\n"
     ]
    }
   ],
   "source": [
    "print(tup)"
   ]
  },
  {
   "cell_type": "code",
   "execution_count": 12,
   "id": "68cacf59",
   "metadata": {},
   "outputs": [],
   "source": [
    "tup = (5,6,7,8,8,7,7,7,8,9)"
   ]
  },
  {
   "cell_type": "code",
   "execution_count": 13,
   "id": "37e120a8",
   "metadata": {},
   "outputs": [
    {
     "name": "stdout",
     "output_type": "stream",
     "text": [
      "4\n"
     ]
    }
   ],
   "source": [
    "print(tup.count(7))"
   ]
  },
  {
   "cell_type": "code",
   "execution_count": 14,
   "id": "dd87fa70",
   "metadata": {},
   "outputs": [
    {
     "name": "stdout",
     "output_type": "stream",
     "text": [
      "5\n",
      "6\n",
      "7\n",
      "8\n",
      "8\n",
      "7\n",
      "7\n",
      "7\n",
      "8\n",
      "9\n"
     ]
    }
   ],
   "source": [
    "for i in tup:\n",
    "    print(i)"
   ]
  },
  {
   "cell_type": "code",
   "execution_count": 15,
   "id": "bf9e5e7d",
   "metadata": {},
   "outputs": [
    {
     "name": "stdout",
     "output_type": "stream",
     "text": [
      "tuple is not empty\n"
     ]
    }
   ],
   "source": [
    "if tup:\n",
    "    print('tuple is  empty')"
   ]
  },
  {
   "cell_type": "code",
   "execution_count": 16,
   "id": "5ca026b9",
   "metadata": {},
   "outputs": [],
   "source": [
    "tup = ()"
   ]
  },
  {
   "cell_type": "code",
   "execution_count": 17,
   "id": "a770d23f",
   "metadata": {},
   "outputs": [
    {
     "name": "stdout",
     "output_type": "stream",
     "text": [
      "tup is empty\n"
     ]
    }
   ],
   "source": [
    "if tup:\n",
    "    print('tuple is not  empty')\n",
    "else :\n",
    "    print('tup is empty')"
   ]
  },
  {
   "cell_type": "code",
   "execution_count": 18,
   "id": "aa9f1773",
   "metadata": {},
   "outputs": [],
   "source": [
    "#string formatting"
   ]
  },
  {
   "cell_type": "code",
   "execution_count": 19,
   "id": "c7e99059",
   "metadata": {},
   "outputs": [],
   "source": [
    "name = 'ram'"
   ]
  },
  {
   "cell_type": "code",
   "execution_count": 20,
   "id": "b9453f0c",
   "metadata": {},
   "outputs": [],
   "source": [
    "like1 = 'appple '"
   ]
  },
  {
   "cell_type": "code",
   "execution_count": 21,
   "id": "73b318aa",
   "metadata": {},
   "outputs": [],
   "source": [
    "like2 = 'orange'"
   ]
  },
  {
   "cell_type": "code",
   "execution_count": 22,
   "id": "7afbf3e6",
   "metadata": {},
   "outputs": [
    {
     "name": "stdout",
     "output_type": "stream",
     "text": [
      "ram likes appple  and orange \n"
     ]
    }
   ],
   "source": [
    "print('{} likes {} and {} '.format(name,like1,like2))"
   ]
  },
  {
   "cell_type": "code",
   "execution_count": 24,
   "id": "2c7354e4",
   "metadata": {},
   "outputs": [],
   "source": [
    "text='{name} likes {fruit1} and {fruit2}'"
   ]
  },
  {
   "cell_type": "code",
   "execution_count": 25,
   "id": "a722b425",
   "metadata": {},
   "outputs": [
    {
     "name": "stdout",
     "output_type": "stream",
     "text": [
      "tinku likes banana and apple\n"
     ]
    }
   ],
   "source": [
    "print(text.format(name=\"tinku\",fruit1=\"banana\",fruit2=\"apple\"))"
   ]
  },
  {
   "cell_type": "code",
   "execution_count": 26,
   "id": "54e6fb08",
   "metadata": {},
   "outputs": [
    {
     "name": "stdout",
     "output_type": "stream",
     "text": [
      "******welcome*****\n"
     ]
    }
   ],
   "source": [
    "print(\"******{msg}*****\".format(msg='welcome'))"
   ]
  },
  {
   "cell_type": "code",
   "execution_count": 28,
   "id": "baae74f6",
   "metadata": {},
   "outputs": [
    {
     "name": "stdout",
     "output_type": "stream",
     "text": [
      "******welcome   *****\n"
     ]
    }
   ],
   "source": [
    "print(\"******{msg:10}*****\".format(msg='welcome'))"
   ]
  },
  {
   "cell_type": "code",
   "execution_count": 29,
   "id": "0c21d1e3",
   "metadata": {},
   "outputs": [
    {
     "name": "stdout",
     "output_type": "stream",
     "text": [
      "******welcome   *****\n"
     ]
    }
   ],
   "source": [
    "print(\"******{msg:<10}*****\".format(msg='welcome'))"
   ]
  },
  {
   "cell_type": "code",
   "execution_count": 31,
   "id": "bb32d669",
   "metadata": {},
   "outputs": [
    {
     "name": "stdout",
     "output_type": "stream",
     "text": [
      "******   welcome*****\n"
     ]
    }
   ],
   "source": [
    "print(\"******{msg:>10}*****\".format(msg='welcome'))"
   ]
  },
  {
   "cell_type": "code",
   "execution_count": 32,
   "id": "aa1ce525",
   "metadata": {},
   "outputs": [],
   "source": [
    "pi = 3.1245"
   ]
  },
  {
   "cell_type": "code",
   "execution_count": 36,
   "id": "d2d868c8",
   "metadata": {},
   "outputs": [
    {
     "name": "stdout",
     "output_type": "stream",
     "text": [
      "3.1245\n"
     ]
    }
   ],
   "source": [
    "print('{}'.format(pi))"
   ]
  },
  {
   "cell_type": "code",
   "execution_count": 39,
   "id": "e1b147dd",
   "metadata": {},
   "outputs": [
    {
     "name": "stdout",
     "output_type": "stream",
     "text": [
      "3.124\n"
     ]
    }
   ],
   "source": [
    "print('{:.3f}'.format(pi))"
   ]
  },
  {
   "cell_type": "code",
   "execution_count": null,
   "id": "d2b8c89a",
   "metadata": {},
   "outputs": [],
   "source": []
  }
 ],
 "metadata": {
  "kernelspec": {
   "display_name": "Python 3 (ipykernel)",
   "language": "python",
   "name": "python3"
  },
  "language_info": {
   "codemirror_mode": {
    "name": "ipython",
    "version": 3
   },
   "file_extension": ".py",
   "mimetype": "text/x-python",
   "name": "python",
   "nbconvert_exporter": "python",
   "pygments_lexer": "ipython3",
   "version": "3.10.9"
  }
 },
 "nbformat": 4,
 "nbformat_minor": 5
}
