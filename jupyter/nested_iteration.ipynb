{
 "cells": [
  {
   "cell_type": "code",
   "execution_count": 26,
   "id": "9c4ecd54",
   "metadata": {},
   "outputs": [
    {
     "name": "stdout",
     "output_type": "stream",
     "text": [
      "['a', 'b', 'c']\n"
     ]
    }
   ],
   "source": [
    "nested1 = [['a','b','c'],['d','e','f'],['g','h']]\n",
    "\n",
    "print(nested1[0])"
   ]
  },
  {
   "cell_type": "code",
   "execution_count": 27,
   "id": "3b931647",
   "metadata": {},
   "outputs": [],
   "source": [
    "nested1[0].append('z')"
   ]
  },
  {
   "cell_type": "code",
   "execution_count": 28,
   "id": "98c60c64",
   "metadata": {},
   "outputs": [
    {
     "name": "stdout",
     "output_type": "stream",
     "text": [
      "[['a', 'b', 'c', 'z'], ['d', 'e', 'f'], ['g', 'h']]\n"
     ]
    }
   ],
   "source": [
    "print(nested1)"
   ]
  },
  {
   "cell_type": "code",
   "execution_count": 31,
   "id": "a5b98742",
   "metadata": {},
   "outputs": [
    {
     "name": "stdout",
     "output_type": "stream",
     "text": [
      "[['a', 'b', 'c', 'z'], ['d', 'e', 'f'], ['g', 'h'], ['i', 'j', 'k'], ['i', 'j', 'k'], ['i', 'j', 'k']]\n"
     ]
    }
   ],
   "source": [
    "nested1.append(['i','j','k'])\n",
    "print(nested1)"
   ]
  },
  {
   "cell_type": "code",
   "execution_count": 32,
   "id": "07b76a42",
   "metadata": {},
   "outputs": [],
   "source": [
    "for n in nested1:\n",
    "    n.pop()"
   ]
  },
  {
   "cell_type": "code",
   "execution_count": 33,
   "id": "4fe48737",
   "metadata": {},
   "outputs": [
    {
     "name": "stdout",
     "output_type": "stream",
     "text": [
      "[['a', 'b', 'c'], ['d', 'e'], ['g'], ['i', 'j'], ['i', 'j'], ['i', 'j']]\n"
     ]
    }
   ],
   "source": [
    "print(nested1)"
   ]
  },
  {
   "cell_type": "code",
   "execution_count": 34,
   "id": "2672d19a",
   "metadata": {},
   "outputs": [],
   "source": [
    "nested2 = [['a','b','c'],['d','e','f'],['g','h']]"
   ]
  },
  {
   "cell_type": "code",
   "execution_count": 35,
   "id": "109ab77b",
   "metadata": {},
   "outputs": [],
   "source": [
    "y = nested2[1]"
   ]
  },
  {
   "cell_type": "code",
   "execution_count": 36,
   "id": "f59000af",
   "metadata": {},
   "outputs": [
    {
     "name": "stdout",
     "output_type": "stream",
     "text": [
      "['d', 'e', 'f']\n"
     ]
    }
   ],
   "source": [
    "print(y)"
   ]
  },
  {
   "cell_type": "code",
   "execution_count": 37,
   "id": "2cf65649",
   "metadata": {},
   "outputs": [
    {
     "name": "stdout",
     "output_type": "stream",
     "text": [
      "20\n"
     ]
    }
   ],
   "source": [
    "print([10,20,30][1])"
   ]
  },
  {
   "cell_type": "code",
   "execution_count": 38,
   "id": "3b9332a5",
   "metadata": {},
   "outputs": [
    {
     "name": "stdout",
     "output_type": "stream",
     "text": [
      "f\n"
     ]
    }
   ],
   "source": [
    "print(nested2[1][2])"
   ]
  },
  {
   "cell_type": "code",
   "execution_count": null,
   "id": "43f0a92f",
   "metadata": {},
   "outputs": [],
   "source": []
  }
 ],
 "metadata": {
  "kernelspec": {
   "display_name": "Python 3 (ipykernel)",
   "language": "python",
   "name": "python3"
  },
  "language_info": {
   "codemirror_mode": {
    "name": "ipython",
    "version": 3
   },
   "file_extension": ".py",
   "mimetype": "text/x-python",
   "name": "python",
   "nbconvert_exporter": "python",
   "pygments_lexer": "ipython3",
   "version": "3.10.9"
  }
 },
 "nbformat": 4,
 "nbformat_minor": 5
}
