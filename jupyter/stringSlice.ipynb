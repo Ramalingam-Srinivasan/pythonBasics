{
 "cells": [
  {
   "cell_type": "code",
   "execution_count": 12,
   "id": "96d5bf27",
   "metadata": {},
   "outputs": [],
   "source": [
    "name=\"ramalingam\""
   ]
  },
  {
   "cell_type": "code",
   "execution_count": 13,
   "id": "2c9a4732",
   "metadata": {},
   "outputs": [
    {
     "name": "stdout",
     "output_type": "stream",
     "text": [
      "a\n"
     ]
    }
   ],
   "source": [
    "print(name[3])"
   ]
  },
  {
   "cell_type": "code",
   "execution_count": 14,
   "id": "01c9bb27",
   "metadata": {},
   "outputs": [
    {
     "name": "stdout",
     "output_type": "stream",
     "text": [
      "rama\n"
     ]
    }
   ],
   "source": [
    "print(name[:4])"
   ]
  },
  {
   "cell_type": "code",
   "execution_count": 15,
   "id": "2d9db455",
   "metadata": {},
   "outputs": [
    {
     "name": "stdout",
     "output_type": "stream",
     "text": [
      "ramal\n"
     ]
    }
   ],
   "source": [
    "print(name[0:5])"
   ]
  },
  {
   "cell_type": "markdown",
   "id": "e0941624",
   "metadata": {},
   "source": [
    "# using indexing \\\n",
    "str[start:stop:step]"
   ]
  },
  {
   "cell_type": "code",
   "execution_count": 16,
   "id": "d45e120e",
   "metadata": {},
   "outputs": [
    {
     "name": "stdout",
     "output_type": "stream",
     "text": [
      "mlna\n"
     ]
    }
   ],
   "source": [
    "print(name[2:10:2])"
   ]
  },
  {
   "cell_type": "code",
   "execution_count": 17,
   "id": "c1c27e9d",
   "metadata": {},
   "outputs": [
    {
     "name": "stdout",
     "output_type": "stream",
     "text": [
      "a\n"
     ]
    }
   ],
   "source": [
    "print(name[-2])"
   ]
  },
  {
   "cell_type": "markdown",
   "id": "8a8d6429",
   "metadata": {},
   "source": [
    "reverse a  string\n"
   ]
  },
  {
   "cell_type": "code",
   "execution_count": 18,
   "id": "b15a3a5d",
   "metadata": {},
   "outputs": [
    {
     "name": "stdout",
     "output_type": "stream",
     "text": [
      "magnilamar\n"
     ]
    }
   ],
   "source": [
    "print(name[::-1])"
   ]
  },
  {
   "cell_type": "code",
   "execution_count": 19,
   "id": "39e1a564",
   "metadata": {},
   "outputs": [
    {
     "name": "stdout",
     "output_type": "stream",
     "text": [
      "m\n"
     ]
    }
   ],
   "source": [
    "print(name[-1::])"
   ]
  },
  {
   "cell_type": "markdown",
   "id": "fb7dae47",
   "metadata": {},
   "source": [
    "using slice methd\n",
    "x=slice(2,2)"
   ]
  },
  {
   "cell_type": "code",
   "execution_count": 24,
   "id": "8ad44839",
   "metadata": {},
   "outputs": [],
   "source": [
    "x=slice(2,-2)"
   ]
  },
  {
   "cell_type": "code",
   "execution_count": 25,
   "id": "4e9b5383",
   "metadata": {},
   "outputs": [
    {
     "name": "stdout",
     "output_type": "stream",
     "text": [
      "maling\n"
     ]
    }
   ],
   "source": [
    "print(name[x])"
   ]
  },
  {
   "cell_type": "code",
   "execution_count": null,
   "id": "9acbb111",
   "metadata": {},
   "outputs": [],
   "source": []
  },
  {
   "cell_type": "code",
   "execution_count": null,
   "id": "9f589940",
   "metadata": {},
   "outputs": [],
   "source": []
  }
 ],
 "metadata": {
  "kernelspec": {
   "display_name": "Python 3 (ipykernel)",
   "language": "python",
   "name": "python3"
  },
  "language_info": {
   "codemirror_mode": {
    "name": "ipython",
    "version": 3
   },
   "file_extension": ".py",
   "mimetype": "text/x-python",
   "name": "python",
   "nbconvert_exporter": "python",
   "pygments_lexer": "ipython3",
   "version": "3.10.9"
  }
 },
 "nbformat": 4,
 "nbformat_minor": 5
}
