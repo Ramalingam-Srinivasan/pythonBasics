{
 "cells": [
  {
   "cell_type": "code",
   "execution_count": 1,
   "id": "f01cdebe",
   "metadata": {},
   "outputs": [],
   "source": [
    "d={'k1':12,'k2':23}"
   ]
  },
  {
   "cell_type": "code",
   "execution_count": 2,
   "id": "09d5bcc1",
   "metadata": {},
   "outputs": [
    {
     "data": {
      "text/plain": [
       "23"
      ]
     },
     "execution_count": 2,
     "metadata": {},
     "output_type": "execute_result"
    }
   ],
   "source": [
    "d['k2']"
   ]
  },
  {
   "cell_type": "code",
   "execution_count": 7,
   "id": "7a9e0639",
   "metadata": {},
   "outputs": [],
   "source": [
    "d={'k1':12,'k2':{'k3':[1,2,3,4]}}"
   ]
  },
  {
   "cell_type": "code",
   "execution_count": 8,
   "id": "a937458a",
   "metadata": {},
   "outputs": [
    {
     "data": {
      "text/plain": [
       "{'k3': [1, 2, 3, 4]}"
      ]
     },
     "execution_count": 8,
     "metadata": {},
     "output_type": "execute_result"
    }
   ],
   "source": [
    "d['k2']"
   ]
  },
  {
   "cell_type": "markdown",
   "id": "d1ddb17e",
   "metadata": {},
   "source": [
    "tuple"
   ]
  },
  {
   "cell_type": "code",
   "execution_count": 1,
   "id": "87dc64d9",
   "metadata": {},
   "outputs": [],
   "source": [
    "t=(1,2,3)"
   ]
  },
  {
   "cell_type": "code",
   "execution_count": 8,
   "id": "0abfaca9",
   "metadata": {},
   "outputs": [
    {
     "ename": "TypeError",
     "evalue": "'tuple' object does not support item assignment",
     "output_type": "error",
     "traceback": [
      "\u001b[1;31m---------------------------------------------------------------------------\u001b[0m",
      "\u001b[1;31mTypeError\u001b[0m                                 Traceback (most recent call last)",
      "Cell \u001b[1;32mIn[8], line 1\u001b[0m\n\u001b[1;32m----> 1\u001b[0m t[\u001b[38;5;241m2\u001b[39m]\u001b[38;5;241m=\u001b[39m\u001b[38;5;124m'\u001b[39m\u001b[38;5;124mnew\u001b[39m\u001b[38;5;124m'\u001b[39m\n",
      "\u001b[1;31mTypeError\u001b[0m: 'tuple' object does not support item assignment"
     ]
    }
   ],
   "source": [
    "t[2]='new'\n",
    "\n",
    "#will get TypeError: 'tuple' object does not support item assignment"
   ]
  },
  {
   "cell_type": "markdown",
   "id": "9c593fb0",
   "metadata": {},
   "source": [
    "not able to change the values in tuple once assigned , it is immtuble where as in list we can change the type os the vlue store in the list "
   ]
  },
  {
   "cell_type": "code",
   "execution_count": 4,
   "id": "e83d332f",
   "metadata": {},
   "outputs": [],
   "source": [
    "nw_List = [1,2,'ram|']"
   ]
  },
  {
   "cell_type": "code",
   "execution_count": 5,
   "id": "5a81990a",
   "metadata": {},
   "outputs": [
    {
     "name": "stdout",
     "output_type": "stream",
     "text": [
      "[1, 2, 'ram|']\n"
     ]
    }
   ],
   "source": [
    "print(nw_List)"
   ]
  },
  {
   "cell_type": "code",
   "execution_count": 6,
   "id": "88cefb83",
   "metadata": {},
   "outputs": [],
   "source": [
    "nw_List[2]=3"
   ]
  },
  {
   "cell_type": "code",
   "execution_count": 7,
   "id": "61ebaef0",
   "metadata": {},
   "outputs": [
    {
     "name": "stdout",
     "output_type": "stream",
     "text": [
      "[1, 2, 3]\n"
     ]
    }
   ],
   "source": [
    "print(nw_List)"
   ]
  },
  {
   "cell_type": "code",
   "execution_count": 1,
   "id": "fc63f3aa",
   "metadata": {},
   "outputs": [],
   "source": [
    "person = {'ram':['biriyani','curd','sambar sadam'],'kisshore':['lemon','tomato rice','tamirind rice'],'deepak':['biriyani','fried rice','coconut rice']}"
   ]
  },
  {
   "cell_type": "code",
   "execution_count": 14,
   "id": "7803392c",
   "metadata": {},
   "outputs": [
    {
     "name": "stdout",
     "output_type": "stream",
     "text": [
      "key:ram\n",
      "values : ['biriyani', 'curd', 'sambar sadam']\n",
      "key:kisshore\n",
      "values : ['lemon', 'tomato rice', 'tamirind rice']\n",
      "key:deepak\n",
      "values : ['biriyani', 'fried rice', 'coconut rice']\n"
     ]
    }
   ],
   "source": [
    "for key,val in person.items():\n",
    "    print('key:'+ key)\n",
    "    print('values : ' + str(val)) "
   ]
  },
  {
   "cell_type": "code",
   "execution_count": 15,
   "id": "6997ac81",
   "metadata": {},
   "outputs": [],
   "source": [
    "users = []"
   ]
  },
  {
   "cell_type": "code",
   "execution_count": 16,
   "id": "9f4b2e2f",
   "metadata": {},
   "outputs": [],
   "source": [
    "user = {'ram':['biriyani','curd','sambar sadam']}"
   ]
  },
  {
   "cell_type": "code",
   "execution_count": 17,
   "id": "02f2a53d",
   "metadata": {},
   "outputs": [],
   "source": [
    "users.append(user)"
   ]
  },
  {
   "cell_type": "code",
   "execution_count": 60,
   "id": "cab9b915",
   "metadata": {},
   "outputs": [
    {
     "name": "stdout",
     "output_type": "stream",
     "text": [
      "[]\n"
     ]
    }
   ],
   "source": [
    "print(users)"
   ]
  },
  {
   "cell_type": "code",
   "execution_count": 58,
   "id": "1daf22c4",
   "metadata": {},
   "outputs": [],
   "source": [
    "user.update(tinku ='curd rice')"
   ]
  },
  {
   "cell_type": "code",
   "execution_count": 59,
   "id": "fa7a6378",
   "metadata": {},
   "outputs": [],
   "source": [
    "user['vino']=['lemon', 'tomato rice']"
   ]
  },
  {
   "cell_type": "code",
   "execution_count": 61,
   "id": "381a13e2",
   "metadata": {},
   "outputs": [],
   "source": [
    "users.append(user)"
   ]
  },
  {
   "cell_type": "code",
   "execution_count": 55,
   "id": "44f68a8a",
   "metadata": {},
   "outputs": [],
   "source": [
    "users.clear()"
   ]
  },
  {
   "cell_type": "code",
   "execution_count": 62,
   "id": "c9dc09ce",
   "metadata": {},
   "outputs": [
    {
     "name": "stdout",
     "output_type": "stream",
     "text": [
      "[{'ram': ['biriyani', 'curd', 'sambar sadam'], 'kisshore': ['lemon', 'tomato rice', 'tamirind rice'], 'tinku': 'curd rice', 'vino': ['lemon', 'tomato rice']}]\n"
     ]
    }
   ],
   "source": [
    "print(users)"
   ]
  },
  {
   "cell_type": "code",
   "execution_count": 57,
   "id": "34688b9b",
   "metadata": {},
   "outputs": [
    {
     "ename": "IndexError",
     "evalue": "list index out of range",
     "output_type": "error",
     "traceback": [
      "\u001b[1;31m---------------------------------------------------------------------------\u001b[0m",
      "\u001b[1;31mIndexError\u001b[0m                                Traceback (most recent call last)",
      "Cell \u001b[1;32mIn[57], line 1\u001b[0m\n\u001b[1;32m----> 1\u001b[0m \u001b[38;5;28mprint\u001b[39m(\u001b[43musers\u001b[49m\u001b[43m[\u001b[49m\u001b[38;5;241;43m0\u001b[39;49m\u001b[43m]\u001b[49m)\n",
      "\u001b[1;31mIndexError\u001b[0m: list index out of range"
     ]
    }
   ],
   "source": [
    "print(users[0])"
   ]
  },
  {
   "cell_type": "code",
   "execution_count": 54,
   "id": "d2b302ab",
   "metadata": {},
   "outputs": [],
   "source": [
    "Dictionary1 = {'A': 'Geeks'}\n"
   ]
  },
  {
   "cell_type": "code",
   "execution_count": 42,
   "id": "64de54ab",
   "metadata": {},
   "outputs": [
    {
     "name": "stdout",
     "output_type": "stream",
     "text": [
      "Original Dictionary:\n",
      "{'A': 'Geeks'}\n"
     ]
    }
   ],
   "source": [
    "print(\"Original Dictionary:\")\n",
    "print(Dictionary1)"
   ]
  },
  {
   "cell_type": "code",
   "execution_count": 43,
   "id": "e96f1f73",
   "metadata": {},
   "outputs": [
    {
     "name": "stdout",
     "output_type": "stream",
     "text": [
      "Dictionary after updation:\n",
      "{'A': 'Geeks', 'B': 'For', 'C': 'Geeks'}\n"
     ]
    }
   ],
   "source": [
    "Dictionary1.update(B='For', C='Geeks')\n",
    "print(\"Dictionary after updation:\")\n",
    "print(Dictionary1)"
   ]
  },
  {
   "cell_type": "code",
   "execution_count": null,
   "id": "f215f561",
   "metadata": {},
   "outputs": [],
   "source": []
  }
 ],
 "metadata": {
  "kernelspec": {
   "display_name": "Python 3 (ipykernel)",
   "language": "python",
   "name": "python3"
  },
  "language_info": {
   "codemirror_mode": {
    "name": "ipython",
    "version": 3
   },
   "file_extension": ".py",
   "mimetype": "text/x-python",
   "name": "python",
   "nbconvert_exporter": "python",
   "pygments_lexer": "ipython3",
   "version": "3.10.9"
  }
 },
 "nbformat": 4,
 "nbformat_minor": 5
}
