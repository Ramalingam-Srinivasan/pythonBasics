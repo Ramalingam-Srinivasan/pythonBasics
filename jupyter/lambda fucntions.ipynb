{
 "cells": [
  {
   "cell_type": "code",
   "execution_count": 1,
   "id": "fb027383",
   "metadata": {},
   "outputs": [
    {
     "name": "stdout",
     "output_type": "stream",
     "text": [
      "30\n"
     ]
    }
   ],
   "source": [
    "def add10(x):\n",
    "    return x+20\n",
    "print(add10(10))"
   ]
  },
  {
   "cell_type": "code",
   "execution_count": 7,
   "id": "b8100b69",
   "metadata": {},
   "outputs": [],
   "source": [
    "#lambda function are  anonymous functions which takes  single expressions at a time"
   ]
  },
  {
   "cell_type": "code",
   "execution_count": 3,
   "id": "13e1a928",
   "metadata": {},
   "outputs": [
    {
     "name": "stdout",
     "output_type": "stream",
     "text": [
      "15\n"
     ]
    }
   ],
   "source": [
    "add_num= lambda x:x+10\n",
    "print(add_num(5))"
   ]
  },
  {
   "cell_type": "code",
   "execution_count": 6,
   "id": "b4f743f0",
   "metadata": {},
   "outputs": [
    {
     "name": "stdout",
     "output_type": "stream",
     "text": [
      "<function <lambda> at 0x000001EA4017C0D0>\n"
     ]
    },
    {
     "name": "stderr",
     "output_type": "stream",
     "text": [
      "<>:1: SyntaxWarning: 'int' object is not callable; perhaps you missed a comma?\n",
      "<>:1: SyntaxWarning: 'int' object is not callable; perhaps you missed a comma?\n",
      "C:\\Users\\ram14\\AppData\\Local\\Temp\\ipykernel_10980\\2841611015.py:1: SyntaxWarning: 'int' object is not callable; perhaps you missed a comma?\n",
      "  varq=lambda x:x+10(5)\n"
     ]
    }
   ],
   "source": [
    "varq=lambda x:x+10(5)\n",
    "print(varq)"
   ]
  },
  {
   "cell_type": "code",
   "execution_count": 9,
   "id": "fe95854c",
   "metadata": {},
   "outputs": [
    {
     "name": "stdout",
     "output_type": "stream",
     "text": [
      "True\n"
     ]
    }
   ],
   "source": [
    "height_enough = lambda x:x>6\n",
    "print(height_enough(7))"
   ]
  },
  {
   "cell_type": "code",
   "execution_count": 11,
   "id": "85600bc9",
   "metadata": {},
   "outputs": [
    {
     "name": "stdout",
     "output_type": "stream",
     "text": [
      "yes\n"
     ]
    }
   ],
   "source": [
    "strong_enough = lambda x : 'yes' if x>60 else 'No'\n",
    "print(strong_enough(70))"
   ]
  },
  {
   "cell_type": "code",
   "execution_count": 17,
   "id": "071d2949",
   "metadata": {},
   "outputs": [
    {
     "name": "stdout",
     "output_type": "stream",
     "text": [
      "yep\n"
     ]
    }
   ],
   "source": [
    "strongest = lambda x : 'yep' if x>80  else 'nope'\n",
    "print(strongest(80.5))"
   ]
  },
  {
   "cell_type": "code",
   "execution_count": 18,
   "id": "560e3d5d",
   "metadata": {},
   "outputs": [],
   "source": [
    "#sorting with key"
   ]
  },
  {
   "cell_type": "code",
   "execution_count": 25,
   "id": "23a6d5f8",
   "metadata": {},
   "outputs": [],
   "source": [
    "students = [(\"maths\",\"anitha\",80),(\"biology\",\"anand\",82),(\"biology\",\"balaji\",72),(\"maths\",\"chandru\",90)]\n",
    "students.sort(key= lambda item : item[2],reverse=True)"
   ]
  },
  {
   "cell_type": "code",
   "execution_count": 26,
   "id": "b53d3d00",
   "metadata": {},
   "outputs": [
    {
     "name": "stdout",
     "output_type": "stream",
     "text": [
      "[('maths', 'chandru', 90), ('biology', 'anand', 82), ('maths', 'anitha', 80), ('biology', 'balaji', 72)]\n"
     ]
    }
   ],
   "source": [
    "print(students)"
   ]
  },
  {
   "cell_type": "code",
   "execution_count": null,
   "id": "9a68c4d1",
   "metadata": {},
   "outputs": [],
   "source": []
  }
 ],
 "metadata": {
  "kernelspec": {
   "display_name": "Python 3 (ipykernel)",
   "language": "python",
   "name": "python3"
  },
  "language_info": {
   "codemirror_mode": {
    "name": "ipython",
    "version": 3
   },
   "file_extension": ".py",
   "mimetype": "text/x-python",
   "name": "python",
   "nbconvert_exporter": "python",
   "pygments_lexer": "ipython3",
   "version": "3.10.9"
  }
 },
 "nbformat": 4,
 "nbformat_minor": 5
}
