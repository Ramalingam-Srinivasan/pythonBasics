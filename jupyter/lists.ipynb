{
 "cells": [
  {
   "cell_type": "markdown",
   "id": "30b42f55",
   "metadata": {},
   "source": [
    "# list functions"
   ]
  },
  {
   "cell_type": "code",
   "execution_count": 1,
   "id": "7c5dc771",
   "metadata": {},
   "outputs": [],
   "source": [
    "cities=[\"chennai\",\"mdurai\",\"coimba\",\"trichy\"]"
   ]
  },
  {
   "cell_type": "code",
   "execution_count": 2,
   "id": "44ad3f24",
   "metadata": {},
   "outputs": [
    {
     "name": "stdout",
     "output_type": "stream",
     "text": [
      "coimba\n"
     ]
    }
   ],
   "source": [
    "print(cities[2])"
   ]
  },
  {
   "cell_type": "code",
   "execution_count": 3,
   "id": "b882870a",
   "metadata": {},
   "outputs": [
    {
     "name": "stdout",
     "output_type": "stream",
     "text": [
      "['chennai', 'mdurai']\n"
     ]
    }
   ],
   "source": [
    "print(cities[:2])"
   ]
  },
  {
   "cell_type": "code",
   "execution_count": 13,
   "id": "048fa725",
   "metadata": {},
   "outputs": [
    {
     "name": "stdout",
     "output_type": "stream",
     "text": [
      "['trichy', 'coimba', 'mdurai', 'chennai']\n"
     ]
    }
   ],
   "source": [
    "print(cities[::-1])"
   ]
  },
  {
   "cell_type": "code",
   "execution_count": 14,
   "id": "6a228d98",
   "metadata": {},
   "outputs": [],
   "source": [
    "cities[2]=\"coimbatore\""
   ]
  },
  {
   "cell_type": "code",
   "execution_count": 15,
   "id": "2b53ae34",
   "metadata": {},
   "outputs": [
    {
     "name": "stdout",
     "output_type": "stream",
     "text": [
      "['chennai', 'mdurai', 'coimbatore', 'trichy']\n"
     ]
    }
   ],
   "source": [
    "print(cities)"
   ]
  },
  {
   "cell_type": "code",
   "execution_count": 17,
   "id": "ae86afd9",
   "metadata": {},
   "outputs": [],
   "source": [
    "cities.insert(2,\"sivagangai\")"
   ]
  },
  {
   "cell_type": "code",
   "execution_count": 18,
   "id": "e5d8b76d",
   "metadata": {},
   "outputs": [
    {
     "name": "stdout",
     "output_type": "stream",
     "text": [
      "['chennai', 'mdurai', 'sivagangai', 'coimbatore', 'trichy']\n"
     ]
    }
   ],
   "source": [
    "print(cities)"
   ]
  },
  {
   "cell_type": "markdown",
   "id": "f9929902",
   "metadata": {},
   "source": [
    "remove using del"
   ]
  },
  {
   "cell_type": "code",
   "execution_count": 19,
   "id": "eb5fd28c",
   "metadata": {},
   "outputs": [],
   "source": [
    "del cities[3]"
   ]
  },
  {
   "cell_type": "code",
   "execution_count": 20,
   "id": "4b1b5773",
   "metadata": {},
   "outputs": [
    {
     "name": "stdout",
     "output_type": "stream",
     "text": [
      "['chennai', 'mdurai', 'sivagangai', 'trichy']\n"
     ]
    }
   ],
   "source": [
    "print(cities\n",
    "    )"
   ]
  },
  {
   "cell_type": "code",
   "execution_count": 21,
   "id": "b38b0067",
   "metadata": {},
   "outputs": [
    {
     "name": "stdout",
     "output_type": "stream",
     "text": [
      "trichy\n"
     ]
    }
   ],
   "source": [
    "print(cities.pop())"
   ]
  },
  {
   "cell_type": "code",
   "execution_count": 38,
   "id": "95885e0c",
   "metadata": {},
   "outputs": [
    {
     "name": "stdout",
     "output_type": "stream",
     "text": [
      "['chennai', 'mdurai', 'karur', 'coimbatore', 'sivagangai']\n"
     ]
    }
   ],
   "source": [
    "print(cities)"
   ]
  },
  {
   "cell_type": "code",
   "execution_count": 26,
   "id": "fd4e1ae9",
   "metadata": {},
   "outputs": [],
   "source": [
    "cities.append(\"karur\")"
   ]
  },
  {
   "cell_type": "code",
   "execution_count": 35,
   "id": "ea481369",
   "metadata": {},
   "outputs": [],
   "source": [
    "cities.append(\"sivagangai\")"
   ]
  },
  {
   "cell_type": "code",
   "execution_count": 37,
   "id": "a7b36cbf",
   "metadata": {},
   "outputs": [],
   "source": [
    "cities.remove(\"sivagangai\")"
   ]
  },
  {
   "cell_type": "markdown",
   "id": "1aaec683",
   "metadata": {},
   "source": [
    "sort"
   ]
  },
  {
   "cell_type": "code",
   "execution_count": 39,
   "id": "e88ecc65",
   "metadata": {},
   "outputs": [
    {
     "name": "stdout",
     "output_type": "stream",
     "text": [
      "['chennai', 'coimbatore', 'karur', 'mdurai', 'sivagangai']\n"
     ]
    }
   ],
   "source": [
    "print(sorted(cities))"
   ]
  },
  {
   "cell_type": "code",
   "execution_count": 41,
   "id": "6cdfc527",
   "metadata": {},
   "outputs": [
    {
     "name": "stdout",
     "output_type": "stream",
     "text": [
      "['chennai', 'coimbatore', 'karur', 'mdurai', 'sivagangai']\n"
     ]
    }
   ],
   "source": [
    "print(cities)"
   ]
  },
  {
   "cell_type": "markdown",
   "id": "ad4b1a4a",
   "metadata": {},
   "source": [
    "nested list"
   ]
  },
  {
   "cell_type": "code",
   "execution_count": 42,
   "id": "6b7f6ce5",
   "metadata": {},
   "outputs": [],
   "source": [
    "nest = ['a','b','d','k','s',['g','h','i',['k','l','m','n',['o','p','q']]]]"
   ]
  },
  {
   "cell_type": "code",
   "execution_count": 48,
   "id": "14de2117",
   "metadata": {},
   "outputs": [],
   "source": [
    "newlist=nest[5]"
   ]
  },
  {
   "cell_type": "code",
   "execution_count": 50,
   "id": "24f856cb",
   "metadata": {},
   "outputs": [],
   "source": [
    "fp=newlist[3]"
   ]
  },
  {
   "cell_type": "code",
   "execution_count": 51,
   "id": "fc030c5d",
   "metadata": {},
   "outputs": [
    {
     "data": {
      "text/plain": [
       "['o', 'p', 'q']"
      ]
     },
     "execution_count": 51,
     "metadata": {},
     "output_type": "execute_result"
    }
   ],
   "source": [
    "fp[4]"
   ]
  },
  {
   "cell_type": "code",
   "execution_count": null,
   "id": "7df9c7c9",
   "metadata": {},
   "outputs": [],
   "source": []
  }
 ],
 "metadata": {
  "kernelspec": {
   "display_name": "Python 3 (ipykernel)",
   "language": "python",
   "name": "python3"
  },
  "language_info": {
   "codemirror_mode": {
    "name": "ipython",
    "version": 3
   },
   "file_extension": ".py",
   "mimetype": "text/x-python",
   "name": "python",
   "nbconvert_exporter": "python",
   "pygments_lexer": "ipython3",
   "version": "3.10.9"
  }
 },
 "nbformat": 4,
 "nbformat_minor": 5
}
