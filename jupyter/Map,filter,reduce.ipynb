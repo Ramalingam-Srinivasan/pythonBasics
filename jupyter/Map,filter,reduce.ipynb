{
 "cells": [
  {
   "cell_type": "markdown",
   "id": "f1581fe0",
   "metadata": {},
   "source": [
    "map(function,iterable)"
   ]
  },
  {
   "cell_type": "code",
   "execution_count": 1,
   "id": "fa99293c",
   "metadata": {},
   "outputs": [],
   "source": [
    "items = [(3456,'shoe',480),(3457,\"bag\",640),(3458,\"bottle\",820)]"
   ]
  },
  {
   "cell_type": "code",
   "execution_count": 2,
   "id": "6bfd2e6f",
   "metadata": {},
   "outputs": [],
   "source": [
    "inr_usd = lambda x : (x[0],x[1],\"{:.2f}\".format(x[2]/73))"
   ]
  },
  {
   "cell_type": "code",
   "execution_count": 3,
   "id": "9ad43825",
   "metadata": {},
   "outputs": [],
   "source": [
    "convered_val=list(map(inr_usd,items))"
   ]
  },
  {
   "cell_type": "code",
   "execution_count": 4,
   "id": "5d10a6b1",
   "metadata": {},
   "outputs": [
    {
     "name": "stdout",
     "output_type": "stream",
     "text": [
      "[(3456, 'shoe', '6.58'), (3457, 'bag', '8.77'), (3458, 'bottle', '11.23')]\n"
     ]
    }
   ],
   "source": [
    "print(convered_val)"
   ]
  },
  {
   "cell_type": "code",
   "execution_count": 34,
   "id": "32234582",
   "metadata": {},
   "outputs": [],
   "source": [
    "val = [2,7,4,5,6]"
   ]
  },
  {
   "cell_type": "code",
   "execution_count": 35,
   "id": "f4cc86cd",
   "metadata": {},
   "outputs": [],
   "source": [
    "sqr_root = map(lambda x : x*x , val)"
   ]
  },
  {
   "cell_type": "code",
   "execution_count": 36,
   "id": "e2c8b521",
   "metadata": {},
   "outputs": [
    {
     "name": "stdout",
     "output_type": "stream",
     "text": [
      "[4, 49, 16, 25, 36]\n"
     ]
    }
   ],
   "source": [
    "print(list(sqr_root))"
   ]
  },
  {
   "cell_type": "code",
   "execution_count": 37,
   "id": "81a7585f",
   "metadata": {},
   "outputs": [],
   "source": [
    "def sqr_root(num):\n",
    "    return num*num\n",
    "sqrt = map(sqr_root,val)"
   ]
  },
  {
   "cell_type": "code",
   "execution_count": 38,
   "id": "e3a82575",
   "metadata": {},
   "outputs": [
    {
     "name": "stdout",
     "output_type": "stream",
     "text": [
      "[4, 49, 16, 25, 36]\n"
     ]
    }
   ],
   "source": [
    "print(list(sqrt))"
   ]
  },
  {
   "cell_type": "markdown",
   "id": "900eca92",
   "metadata": {},
   "source": [
    "# filter(function,iterable)"
   ]
  },
  {
   "cell_type": "code",
   "execution_count": 49,
   "id": "b5f69075",
   "metadata": {},
   "outputs": [],
   "source": [
    "less_than_find = filter(lambda x : x[2]<500,items)"
   ]
  },
  {
   "cell_type": "code",
   "execution_count": 50,
   "id": "7190d73e",
   "metadata": {},
   "outputs": [
    {
     "name": "stdout",
     "output_type": "stream",
     "text": [
      "[(3456, 'shoe', 480)]\n"
     ]
    }
   ],
   "source": [
    "print(list(less_than_find))"
   ]
  },
  {
   "cell_type": "code",
   "execution_count": 5,
   "id": "d3b41305",
   "metadata": {},
   "outputs": [],
   "source": [
    "students = [(\"maths\",\"anitha\",180),(\"biology\",\"rama\",199),(\"chemistry\",\"ashok\",177)]"
   ]
  },
  {
   "cell_type": "code",
   "execution_count": 7,
   "id": "14fa470e",
   "metadata": {},
   "outputs": [],
   "source": [
    "filtered_val = lambda stud : stud[1][0] =='a'"
   ]
  },
  {
   "cell_type": "code",
   "execution_count": 11,
   "id": "088225e0",
   "metadata": {},
   "outputs": [
    {
     "name": "stdout",
     "output_type": "stream",
     "text": [
      "[('maths', 'anitha', 180), ('chemistry', 'ashok', 177)]\n"
     ]
    }
   ],
   "source": [
    "print(list(filter(filtered_val,students)))"
   ]
  },
  {
   "cell_type": "markdown",
   "id": "a520633d",
   "metadata": {},
   "source": [
    "# reduce"
   ]
  },
  {
   "cell_type": "code",
   "execution_count": 51,
   "id": "960e652c",
   "metadata": {},
   "outputs": [],
   "source": [
    "chr_val = ['p','y','t','h','o','n']"
   ]
  },
  {
   "cell_type": "code",
   "execution_count": 52,
   "id": "ca9ee0d4",
   "metadata": {},
   "outputs": [],
   "source": [
    "from functools import reduce \n",
    "reduced_val=reduce(lambda x,y : x+y , chr_val)"
   ]
  },
  {
   "cell_type": "code",
   "execution_count": 53,
   "id": "368eb687",
   "metadata": {},
   "outputs": [
    {
     "name": "stdout",
     "output_type": "stream",
     "text": [
      "python\n"
     ]
    }
   ],
   "source": [
    "print(reduced_val)"
   ]
  },
  {
   "cell_type": "markdown",
   "id": "5df895de",
   "metadata": {},
   "source": [
    "# list comprehension\n"
   ]
  },
  {
   "cell_type": "markdown",
   "id": "73379b77",
   "metadata": {},
   "source": [
    "list_val =[exprs for item in iterable]"
   ]
  },
  {
   "cell_type": "code",
   "execution_count": 1,
   "id": "79162bdf",
   "metadata": {},
   "outputs": [],
   "source": [
    "sqr_list = map(lambda x:x*x,range(1,11))"
   ]
  },
  {
   "cell_type": "code",
   "execution_count": 2,
   "id": "9d2ad04d",
   "metadata": {},
   "outputs": [
    {
     "name": "stdout",
     "output_type": "stream",
     "text": [
      "[1, 4, 9, 16, 25, 36, 49, 64, 81, 100]\n"
     ]
    }
   ],
   "source": [
    "print(list(sqr_list))"
   ]
  },
  {
   "cell_type": "code",
   "execution_count": 3,
   "id": "cb57637a",
   "metadata": {},
   "outputs": [],
   "source": [
    "sqr_li = [x*x for x in range(1,11)]"
   ]
  },
  {
   "cell_type": "code",
   "execution_count": 5,
   "id": "70ba4494",
   "metadata": {},
   "outputs": [
    {
     "name": "stdout",
     "output_type": "stream",
     "text": [
      "[1, 4, 9, 16, 25, 36, 49, 64, 81, 100]\n"
     ]
    }
   ],
   "source": [
    "print (list(sqr_li))"
   ]
  },
  {
   "cell_type": "code",
   "execution_count": 6,
   "id": "31d176cf",
   "metadata": {},
   "outputs": [],
   "source": [
    "temp = [2,4,6,8,10] \n",
    "temp_filter = [i for i in temp if i > 6]"
   ]
  },
  {
   "cell_type": "code",
   "execution_count": 7,
   "id": "8d0907cb",
   "metadata": {},
   "outputs": [
    {
     "name": "stdout",
     "output_type": "stream",
     "text": [
      "[8, 10]\n"
     ]
    }
   ],
   "source": [
    "print(temp_filter)"
   ]
  },
  {
   "cell_type": "code",
   "execution_count": 8,
   "id": "2c1058f0",
   "metadata": {},
   "outputs": [],
   "source": [
    "temp= [1,2,3,4,5,6,7,8,9,0]\n",
    "temp_fi = [i if i> 4 else 0 for i in temp]"
   ]
  },
  {
   "cell_type": "code",
   "execution_count": 9,
   "id": "9a8297b6",
   "metadata": {},
   "outputs": [
    {
     "name": "stdout",
     "output_type": "stream",
     "text": [
      "[0, 0, 0, 0, 5, 6, 7, 8, 9, 0]\n"
     ]
    }
   ],
   "source": [
    "print(temp_fi)"
   ]
  },
  {
   "cell_type": "markdown",
   "id": "b5cb4df2",
   "metadata": {},
   "source": [
    "# dictionary comprehension"
   ]
  },
  {
   "cell_type": "markdown",
   "id": "ba301cb8",
   "metadata": {},
   "source": [
    "dictionary = {key : expression for(key,val) in iterable }"
   ]
  },
  {
   "cell_type": "code",
   "execution_count": 12,
   "id": "acef8d9e",
   "metadata": {},
   "outputs": [],
   "source": [
    "cart_items = {'phone':2500.00,'table':4999.99,'tv':1599.99}"
   ]
  },
  {
   "cell_type": "code",
   "execution_count": 15,
   "id": "8821bfa3",
   "metadata": {},
   "outputs": [],
   "source": [
    "checkout_items = {k : round(v) for(k,v) in cart_items.items()}"
   ]
  },
  {
   "cell_type": "code",
   "execution_count": 16,
   "id": "cb713477",
   "metadata": {},
   "outputs": [
    {
     "name": "stdout",
     "output_type": "stream",
     "text": [
      "{'phone': 2500, 'table': 5000, 'tv': 1600}\n"
     ]
    }
   ],
   "source": [
    "print(checkout_items)"
   ]
  },
  {
   "cell_type": "code",
   "execution_count": 17,
   "id": "1f870fad",
   "metadata": {},
   "outputs": [],
   "source": [
    "checkout_items1 = {k : round(v) for(k,v) in cart_items.items() if v>1600}"
   ]
  },
  {
   "cell_type": "code",
   "execution_count": 18,
   "id": "c763154b",
   "metadata": {},
   "outputs": [
    {
     "name": "stdout",
     "output_type": "stream",
     "text": [
      "{'phone': 2500, 'table': 5000}\n"
     ]
    }
   ],
   "source": [
    "print(checkout_items1)"
   ]
  },
  {
   "cell_type": "code",
   "execution_count": 21,
   "id": "0f7ec588",
   "metadata": {},
   "outputs": [],
   "source": [
    "checkout_items2 = {k : round(v) if v>1600 else \"amount not sufficient\" for(k,v) in cart_items.items()}"
   ]
  },
  {
   "cell_type": "code",
   "execution_count": 22,
   "id": "a83a1c95",
   "metadata": {},
   "outputs": [
    {
     "name": "stdout",
     "output_type": "stream",
     "text": [
      "{'phone': 2500, 'table': 5000, 'tv': 'amount not sufficient'}\n"
     ]
    }
   ],
   "source": [
    "print(checkout_items2)"
   ]
  },
  {
   "cell_type": "code",
   "execution_count": 27,
   "id": "cc199310",
   "metadata": {},
   "outputs": [
    {
     "name": "stdout",
     "output_type": "stream",
     "text": [
      "{'phone': 2500.0, 'table': 2500, 'tv': 800}\n"
     ]
    }
   ],
   "source": [
    "def furniture_dicsc(k,v):\n",
    "    if(k=='table' or k=='tv'):\n",
    "        v=round(0.50*v)\n",
    "    return v  \n",
    "cart = {k:furniture_dicsc(k,v) for (k,v) in  cart_items.items() }\n",
    "print(cart)"
   ]
  },
  {
   "cell_type": "code",
   "execution_count": null,
   "id": "2a33789c",
   "metadata": {},
   "outputs": [],
   "source": []
  }
 ],
 "metadata": {
  "kernelspec": {
   "display_name": "Python 3 (ipykernel)",
   "language": "python",
   "name": "python3"
  },
  "language_info": {
   "codemirror_mode": {
    "name": "ipython",
    "version": 3
   },
   "file_extension": ".py",
   "mimetype": "text/x-python",
   "name": "python",
   "nbconvert_exporter": "python",
   "pygments_lexer": "ipython3",
   "version": "3.10.9"
  }
 },
 "nbformat": 4,
 "nbformat_minor": 5
}
