{
 "cells": [
  {
   "cell_type": "code",
   "execution_count": 1,
   "id": "42bee2f9",
   "metadata": {},
   "outputs": [],
   "source": [
    "s={1,2,3,4}"
   ]
  },
  {
   "cell_type": "code",
   "execution_count": 2,
   "id": "88c7d1d8",
   "metadata": {},
   "outputs": [
    {
     "name": "stdout",
     "output_type": "stream",
     "text": [
      "{1, 2, 3, 4}\n"
     ]
    }
   ],
   "source": [
    "print(s)"
   ]
  },
  {
   "cell_type": "code",
   "execution_count": 7,
   "id": "5dbb5f70",
   "metadata": {},
   "outputs": [],
   "source": [
    "s.add(4)"
   ]
  },
  {
   "cell_type": "code",
   "execution_count": 8,
   "id": "8a66efc2",
   "metadata": {},
   "outputs": [
    {
     "name": "stdout",
     "output_type": "stream",
     "text": [
      "{1, 2, 3, 4, 5}\n"
     ]
    }
   ],
   "source": [
    "print(s)"
   ]
  },
  {
   "cell_type": "code",
   "execution_count": 11,
   "id": "2df38092",
   "metadata": {},
   "outputs": [],
   "source": [
    "k=(1,2,3,4,5,5,4,4,4,4,4,4,4,4,4,4,4)"
   ]
  },
  {
   "cell_type": "code",
   "execution_count": 12,
   "id": "c7497444",
   "metadata": {},
   "outputs": [
    {
     "name": "stdout",
     "output_type": "stream",
     "text": [
      "(1, 2, 3, 4, 5, 5, 4, 4, 4, 4, 4, 4, 4, 4, 4, 4, 4)\n"
     ]
    }
   ],
   "source": [
    "print(k)"
   ]
  },
  {
   "cell_type": "code",
   "execution_count": 19,
   "id": "fe5f9c43",
   "metadata": {},
   "outputs": [
    {
     "data": {
      "text/plain": [
       "{1, 2, 3, 4, 5}"
      ]
     },
     "execution_count": 19,
     "metadata": {},
     "output_type": "execute_result"
    }
   ],
   "source": [
    "set(k)\n",
    "#set method will return unique elements"
   ]
  },
  {
   "cell_type": "code",
   "execution_count": 18,
   "id": "e38a91bd",
   "metadata": {},
   "outputs": [
    {
     "name": "stdout",
     "output_type": "stream",
     "text": [
      "{(1, 2, 3, 4, 5, 5, 4, 4, 4, 4, 4, 4, 4, 4, 4, 4, 4)}\n"
     ]
    }
   ],
   "source": [
    "print(s)"
   ]
  },
  {
   "cell_type": "markdown",
   "id": "d9a323b7",
   "metadata": {},
   "source": [
    "# for loop"
   ]
  },
  {
   "cell_type": "code",
   "execution_count": 20,
   "id": "515674a4",
   "metadata": {},
   "outputs": [],
   "source": [
    "x = [1,2,3,4,5,6,7]"
   ]
  },
  {
   "cell_type": "code",
   "execution_count": 36,
   "id": "f5688ed3",
   "metadata": {},
   "outputs": [],
   "source": [
    "out= []"
   ]
  },
  {
   "cell_type": "code",
   "execution_count": 37,
   "id": "8f4a747a",
   "metadata": {},
   "outputs": [],
   "source": [
    "for num in x :\n",
    "    out.append(num**2)"
   ]
  },
  {
   "cell_type": "code",
   "execution_count": 38,
   "id": "4974bcff",
   "metadata": {},
   "outputs": [
    {
     "name": "stdout",
     "output_type": "stream",
     "text": [
      "[1, 4, 9, 16, 25, 36, 49]\n"
     ]
    }
   ],
   "source": [
    "print(out)"
   ]
  },
  {
   "cell_type": "markdown",
   "id": "9f4b9bde",
   "metadata": {},
   "source": [
    "list compprejhension "
   ]
  },
  {
   "cell_type": "code",
   "execution_count": 39,
   "id": "ed3f0226",
   "metadata": {},
   "outputs": [],
   "source": [
    "out_nw= [num**2 for num in x]"
   ]
  },
  {
   "cell_type": "code",
   "execution_count": 40,
   "id": "cd319b9b",
   "metadata": {},
   "outputs": [
    {
     "name": "stdout",
     "output_type": "stream",
     "text": [
      "[1, 4, 9, 16, 25, 36, 49]\n"
     ]
    }
   ],
   "source": [
    "print(out_nw)"
   ]
  },
  {
   "cell_type": "code",
   "execution_count": null,
   "id": "cc4d73bb",
   "metadata": {},
   "outputs": [],
   "source": []
  }
 ],
 "metadata": {
  "kernelspec": {
   "display_name": "Python 3 (ipykernel)",
   "language": "python",
   "name": "python3"
  },
  "language_info": {
   "codemirror_mode": {
    "name": "ipython",
    "version": 3
   },
   "file_extension": ".py",
   "mimetype": "text/x-python",
   "name": "python",
   "nbconvert_exporter": "python",
   "pygments_lexer": "ipython3",
   "version": "3.10.9"
  }
 },
 "nbformat": 4,
 "nbformat_minor": 5
}
