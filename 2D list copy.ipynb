{
 "cells": [
  {
   "cell_type": "code",
   "execution_count": 1,
   "id": "3fdf9649",
   "metadata": {},
   "outputs": [],
   "source": [
    "cities = ['chennai','karur','madurai','trichy']"
   ]
  },
  {
   "cell_type": "code",
   "execution_count": 2,
   "id": "25eaf0bd",
   "metadata": {},
   "outputs": [],
   "source": [
    "districts = cities"
   ]
  },
  {
   "cell_type": "code",
   "execution_count": 3,
   "id": "e38a10a1",
   "metadata": {},
   "outputs": [],
   "source": [
    "cities.append('tirunelveli')"
   ]
  },
  {
   "cell_type": "code",
   "execution_count": 4,
   "id": "a6ea1e61",
   "metadata": {},
   "outputs": [
    {
     "name": "stdout",
     "output_type": "stream",
     "text": [
      "['chennai', 'karur', 'madurai', 'trichy', 'tirunelveli']\n"
     ]
    }
   ],
   "source": [
    "print(districts)"
   ]
  },
  {
   "cell_type": "code",
   "execution_count": 6,
   "id": "cfd58329",
   "metadata": {},
   "outputs": [],
   "source": [
    "#shallow copy example"
   ]
  },
  {
   "cell_type": "code",
   "execution_count": 11,
   "id": "738c08af",
   "metadata": {},
   "outputs": [],
   "source": [
    "state = districts[:] # state = districts.copy()"
   ]
  },
  {
   "cell_type": "code",
   "execution_count": 8,
   "id": "cad077c5",
   "metadata": {},
   "outputs": [],
   "source": [
    "districts[1]='ramnad'"
   ]
  },
  {
   "cell_type": "code",
   "execution_count": 9,
   "id": "2436eefc",
   "metadata": {},
   "outputs": [
    {
     "name": "stdout",
     "output_type": "stream",
     "text": [
      "['chennai', 'ramnad', 'madurai', 'trichy', 'tirunelveli']\n"
     ]
    }
   ],
   "source": [
    "print(districts)"
   ]
  },
  {
   "cell_type": "code",
   "execution_count": 10,
   "id": "6bb10616",
   "metadata": {},
   "outputs": [
    {
     "name": "stdout",
     "output_type": "stream",
     "text": [
      "['chennai', 'karur', 'madurai', 'trichy', 'tirunelveli']\n"
     ]
    }
   ],
   "source": [
    "print(state)"
   ]
  },
  {
   "cell_type": "code",
   "execution_count": 12,
   "id": "1ac7f1ab",
   "metadata": {},
   "outputs": [],
   "source": [
    "# deep copy example"
   ]
  },
  {
   "cell_type": "code",
   "execution_count": 13,
   "id": "81468c00",
   "metadata": {},
   "outputs": [],
   "source": [
    "import copy"
   ]
  },
  {
   "cell_type": "code",
   "execution_count": 15,
   "id": "963a1931",
   "metadata": {},
   "outputs": [],
   "source": [
    "tn_cities = copy.deepcopy(state)"
   ]
  },
  {
   "cell_type": "code",
   "execution_count": 16,
   "id": "430f27f7",
   "metadata": {},
   "outputs": [],
   "source": [
    "state.append('kanyakumari')"
   ]
  },
  {
   "cell_type": "code",
   "execution_count": 17,
   "id": "e16704ca",
   "metadata": {},
   "outputs": [
    {
     "name": "stdout",
     "output_type": "stream",
     "text": [
      "['chennai', 'ramnad', 'madurai', 'trichy', 'tirunelveli', 'kanyakumari']\n"
     ]
    }
   ],
   "source": [
    "print(state)"
   ]
  },
  {
   "cell_type": "code",
   "execution_count": 18,
   "id": "ebb4c428",
   "metadata": {},
   "outputs": [
    {
     "name": "stdout",
     "output_type": "stream",
     "text": [
      "['chennai', 'ramnad', 'madurai', 'trichy', 'tirunelveli']\n"
     ]
    }
   ],
   "source": [
    "print(tn_cities)"
   ]
  },
  {
   "cell_type": "code",
   "execution_count": 19,
   "id": "a4d74923",
   "metadata": {},
   "outputs": [],
   "source": [
    "andra_cities = ['kadapa','kakinada','tirupati0','vijayawada']"
   ]
  },
  {
   "cell_type": "code",
   "execution_count": 29,
   "id": "55f3d74a",
   "metadata": {},
   "outputs": [],
   "source": [
    "india = [tn_cities,andra_cities]"
   ]
  },
  {
   "cell_type": "code",
   "execution_count": 30,
   "id": "40f030a3",
   "metadata": {},
   "outputs": [
    {
     "name": "stdout",
     "output_type": "stream",
     "text": [
      "[['chennai', 'ramnad', 'madurai', 'trichy', 'tirunelveli'], ['kadapa', 'kakinada', 'tirupati0', 'vijayawada']]\n"
     ]
    }
   ],
   "source": [
    "print(india)"
   ]
  },
  {
   "cell_type": "code",
   "execution_count": 31,
   "id": "1ccacc81",
   "metadata": {},
   "outputs": [],
   "source": [
    "andra_crct = andra_cities.copy()"
   ]
  },
  {
   "cell_type": "code",
   "execution_count": 32,
   "id": "5d3cabf8",
   "metadata": {},
   "outputs": [],
   "source": [
    "andra_crct[1]='nellor'"
   ]
  },
  {
   "cell_type": "code",
   "execution_count": 33,
   "id": "41606a66",
   "metadata": {},
   "outputs": [
    {
     "name": "stdout",
     "output_type": "stream",
     "text": [
      "['kadapa', 'nellor', 'tirupati0', 'vijayawada']\n"
     ]
    }
   ],
   "source": [
    "print(andra_crct)"
   ]
  },
  {
   "cell_type": "code",
   "execution_count": 34,
   "id": "04d6f4df",
   "metadata": {},
   "outputs": [
    {
     "name": "stdout",
     "output_type": "stream",
     "text": [
      "['kadapa', 'kakinada', 'tirupati0', 'vijayawada']\n"
     ]
    }
   ],
   "source": [
    "print(andra_cities)"
   ]
  },
  {
   "cell_type": "code",
   "execution_count": 35,
   "id": "7cfbdf48",
   "metadata": {},
   "outputs": [
    {
     "name": "stdout",
     "output_type": "stream",
     "text": [
      "[['chennai', 'ramnad', 'madurai', 'trichy', 'tirunelveli'], ['kadapa', 'kakinada', 'tirupati0', 'vijayawada']]\n"
     ]
    }
   ],
   "source": [
    "print(india)"
   ]
  },
  {
   "cell_type": "code",
   "execution_count": null,
   "id": "8215881f",
   "metadata": {},
   "outputs": [],
   "source": []
  }
 ],
 "metadata": {
  "kernelspec": {
   "display_name": "Python 3 (ipykernel)",
   "language": "python",
   "name": "python3"
  },
  "language_info": {
   "codemirror_mode": {
    "name": "ipython",
    "version": 3
   },
   "file_extension": ".py",
   "mimetype": "text/x-python",
   "name": "python",
   "nbconvert_exporter": "python",
   "pygments_lexer": "ipython3",
   "version": "3.10.9"
  }
 },
 "nbformat": 4,
 "nbformat_minor": 5
}
