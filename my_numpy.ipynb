{
 "cells": [
  {
   "cell_type": "code",
   "execution_count": 1,
   "id": "c3568011",
   "metadata": {},
   "outputs": [],
   "source": [
    "my_list=[1,2,3,4,5]"
   ]
  },
  {
   "cell_type": "code",
   "execution_count": 2,
   "id": "b5e81543",
   "metadata": {},
   "outputs": [],
   "source": [
    "import numpy as np"
   ]
  },
  {
   "cell_type": "code",
   "execution_count": 3,
   "id": "f472f9d0",
   "metadata": {},
   "outputs": [
    {
     "data": {
      "text/plain": [
       "array([1, 2, 3, 4, 5])"
      ]
     },
     "execution_count": 3,
     "metadata": {},
     "output_type": "execute_result"
    }
   ],
   "source": [
    "np.array(my_list)"
   ]
  },
  {
   "cell_type": "code",
   "execution_count": 4,
   "id": "e741078f",
   "metadata": {},
   "outputs": [],
   "source": [
    "my_mat=[[1,2,3],[4,5,6],[7,8,9]]"
   ]
  },
  {
   "cell_type": "code",
   "execution_count": 5,
   "id": "67e905c5",
   "metadata": {},
   "outputs": [
    {
     "data": {
      "text/plain": [
       "array([[1, 2, 3],\n",
       "       [4, 5, 6],\n",
       "       [7, 8, 9]])"
      ]
     },
     "execution_count": 5,
     "metadata": {},
     "output_type": "execute_result"
    }
   ],
   "source": [
    "np.array(my_mat)"
   ]
  },
  {
   "cell_type": "code",
   "execution_count": 6,
   "id": "7a110344",
   "metadata": {},
   "outputs": [
    {
     "data": {
      "text/plain": [
       "array([0, 1, 2, 3, 4, 5, 6, 7, 8, 9])"
      ]
     },
     "execution_count": 6,
     "metadata": {},
     "output_type": "execute_result"
    }
   ],
   "source": [
    "np.arange(0,10)"
   ]
  },
  {
   "cell_type": "code",
   "execution_count": 7,
   "id": "cf6c5d4f",
   "metadata": {},
   "outputs": [
    {
     "data": {
      "text/plain": [
       "array([0, 3, 6, 9])"
      ]
     },
     "execution_count": 7,
     "metadata": {},
     "output_type": "execute_result"
    }
   ],
   "source": [
    "np.arange(0,10,3)"
   ]
  },
  {
   "cell_type": "code",
   "execution_count": 8,
   "id": "d3c02ee2",
   "metadata": {},
   "outputs": [
    {
     "data": {
      "text/plain": [
       "array([[0., 0., 0.],\n",
       "       [0., 0., 0.]])"
      ]
     },
     "execution_count": 8,
     "metadata": {},
     "output_type": "execute_result"
    }
   ],
   "source": [
    "np.zeros((2,3))"
   ]
  },
  {
   "cell_type": "code",
   "execution_count": 9,
   "id": "0fa1b602",
   "metadata": {},
   "outputs": [
    {
     "data": {
      "text/plain": [
       "array([0., 0.])"
      ]
     },
     "execution_count": 9,
     "metadata": {},
     "output_type": "execute_result"
    }
   ],
   "source": [
    "np.zeros(2)"
   ]
  },
  {
   "cell_type": "code",
   "execution_count": 10,
   "id": "1b6c98c6",
   "metadata": {},
   "outputs": [
    {
     "data": {
      "text/plain": [
       "array([1., 1., 1.])"
      ]
     },
     "execution_count": 10,
     "metadata": {},
     "output_type": "execute_result"
    }
   ],
   "source": [
    "np.ones(3)"
   ]
  },
  {
   "cell_type": "code",
   "execution_count": 11,
   "id": "cce99c6a",
   "metadata": {},
   "outputs": [
    {
     "data": {
      "text/plain": [
       "array([[1., 1., 1.],\n",
       "       [1., 1., 1.]])"
      ]
     },
     "execution_count": 11,
     "metadata": {},
     "output_type": "execute_result"
    }
   ],
   "source": [
    "np.ones((2,3))"
   ]
  },
  {
   "cell_type": "code",
   "execution_count": 12,
   "id": "88d93223",
   "metadata": {},
   "outputs": [
    {
     "data": {
      "text/plain": [
       "array([0.        , 0.10204082, 0.20408163, 0.30612245, 0.40816327,\n",
       "       0.51020408, 0.6122449 , 0.71428571, 0.81632653, 0.91836735,\n",
       "       1.02040816, 1.12244898, 1.2244898 , 1.32653061, 1.42857143,\n",
       "       1.53061224, 1.63265306, 1.73469388, 1.83673469, 1.93877551,\n",
       "       2.04081633, 2.14285714, 2.24489796, 2.34693878, 2.44897959,\n",
       "       2.55102041, 2.65306122, 2.75510204, 2.85714286, 2.95918367,\n",
       "       3.06122449, 3.16326531, 3.26530612, 3.36734694, 3.46938776,\n",
       "       3.57142857, 3.67346939, 3.7755102 , 3.87755102, 3.97959184,\n",
       "       4.08163265, 4.18367347, 4.28571429, 4.3877551 , 4.48979592,\n",
       "       4.59183673, 4.69387755, 4.79591837, 4.89795918, 5.        ])"
      ]
     },
     "execution_count": 12,
     "metadata": {},
     "output_type": "execute_result"
    }
   ],
   "source": [
    "np.linspace(0,5)"
   ]
  },
  {
   "cell_type": "code",
   "execution_count": 13,
   "id": "a175ee51",
   "metadata": {},
   "outputs": [
    {
     "data": {
      "text/plain": [
       "array([[1., 1., 1.],\n",
       "       [1., 1., 1.],\n",
       "       [1., 1., 1.]])"
      ]
     },
     "execution_count": 13,
     "metadata": {},
     "output_type": "execute_result"
    }
   ],
   "source": [
    "np.ones((3,3))"
   ]
  },
  {
   "cell_type": "code",
   "execution_count": 14,
   "id": "fafc1c74",
   "metadata": {},
   "outputs": [
    {
     "data": {
      "text/plain": [
       "26"
      ]
     },
     "execution_count": 14,
     "metadata": {},
     "output_type": "execute_result"
    }
   ],
   "source": [
    "np.random.randint(0,50)"
   ]
  },
  {
   "cell_type": "code",
   "execution_count": 15,
   "id": "accc1206",
   "metadata": {},
   "outputs": [
    {
     "data": {
      "text/plain": [
       "array([[0.15928924, 0.61372236, 0.98292255, 0.96407874, 0.42104982,\n",
       "        0.51897564, 0.13189897, 0.2312298 , 0.29085877, 0.0614361 ],\n",
       "       [0.80268533, 0.07822963, 0.68026812, 0.09081073, 0.64240724,\n",
       "        0.45360383, 0.88008821, 0.23493872, 0.05331542, 0.92017802],\n",
       "       [0.98570549, 0.07478537, 0.46644136, 0.40260845, 0.35632291,\n",
       "        0.85355298, 0.38946411, 0.16752518, 0.87036664, 0.57586641],\n",
       "       [0.01795605, 0.88634357, 0.97183272, 0.52237267, 0.89573819,\n",
       "        0.47788997, 0.54130233, 0.73539011, 0.51260834, 0.041495  ],\n",
       "       [0.86469673, 0.70305752, 0.89468322, 0.17828816, 0.45843765,\n",
       "        0.06871272, 0.91349467, 0.92213433, 0.79009852, 0.93906761],\n",
       "       [0.77215912, 0.5844785 , 0.93468702, 0.26388383, 0.23006814,\n",
       "        0.26494044, 0.17288022, 0.34191247, 0.11584345, 0.63407636],\n",
       "       [0.70749389, 0.32561534, 0.35047887, 0.2269561 , 0.58116748,\n",
       "        0.6439872 , 0.15427901, 0.46878718, 0.55409412, 0.05013289],\n",
       "       [0.57207581, 0.04287359, 0.93439708, 0.69501414, 0.63367136,\n",
       "        0.18024241, 0.74096522, 0.36964354, 0.66205424, 0.58153394],\n",
       "       [0.96833847, 0.59585624, 0.79130293, 0.1197155 , 0.82400751,\n",
       "        0.41027833, 0.54179542, 0.63848889, 0.9387697 , 0.67842176],\n",
       "       [0.75002232, 0.72199033, 0.81986112, 0.93650083, 0.16442302,\n",
       "        0.77531682, 0.3287517 , 0.56792894, 0.41596081, 0.79053821]])"
      ]
     },
     "execution_count": 15,
     "metadata": {},
     "output_type": "execute_result"
    }
   ],
   "source": [
    "np.random.rand(10,10)"
   ]
  },
  {
   "cell_type": "code",
   "execution_count": 15,
   "id": "a966a8f0",
   "metadata": {},
   "outputs": [
    {
     "data": {
      "text/plain": [
       "array([[[ 0.62874943,  2.32311789, -0.98056345, ...,  0.2187896 ,\n",
       "          0.04776884,  0.48529057],\n",
       "        [ 0.50897172,  1.75203148,  0.46554014, ..., -0.20647114,\n",
       "          1.12083103, -1.43691225],\n",
       "        [-1.32277325, -0.94709453,  0.98462589, ...,  0.22531988,\n",
       "         -1.39348354,  0.02271807],\n",
       "        ...,\n",
       "        [-0.61047383,  0.23647738,  1.3610013 , ...,  1.33214931,\n",
       "         -0.47016992,  0.6082737 ],\n",
       "        [ 1.01616114, -0.31215886,  1.0598906 , ..., -1.29434375,\n",
       "         -0.13036606,  0.40459623],\n",
       "        [-0.94362009, -1.33745978,  0.38360809, ..., -0.18110215,\n",
       "         -0.01580972,  0.44345422]],\n",
       "\n",
       "       [[-1.58042117, -0.58847437,  0.21076824, ..., -0.75849018,\n",
       "         -0.50281535,  1.49685229],\n",
       "        [-1.83488801, -1.04815881,  0.10596623, ...,  0.6530982 ,\n",
       "          0.0526612 ,  0.50836161],\n",
       "        [-0.44527603,  0.60932166, -0.52748925, ..., -1.60248645,\n",
       "         -0.8464349 ,  0.16748618],\n",
       "        ...,\n",
       "        [-0.37454273, -0.92450848,  0.75794531, ..., -1.56047993,\n",
       "          0.51188116,  0.53393027],\n",
       "        [-0.39518195,  0.74512044,  1.05188817, ...,  0.40505455,\n",
       "          0.13862109,  0.08842954],\n",
       "        [ 0.69083232,  0.82160032,  0.50496884, ...,  0.34701148,\n",
       "         -1.40780846,  1.47974201]],\n",
       "\n",
       "       [[ 0.86322054, -0.37928894, -1.27011813, ...,  0.88507771,\n",
       "          1.15535375, -0.61532563],\n",
       "        [ 1.36917633,  0.22183554,  0.50002083, ...,  0.00761933,\n",
       "          1.73219825,  1.13439823],\n",
       "        [ 0.49891491,  0.71054266,  0.65217844, ...,  0.75037934,\n",
       "         -0.63306262,  0.45293416],\n",
       "        ...,\n",
       "        [-0.48482961,  0.44084214, -2.54200644, ..., -0.4631529 ,\n",
       "          0.66516746,  1.10821627],\n",
       "        [-0.46139997,  0.23800793, -0.71658423, ...,  1.72687355,\n",
       "         -0.8013628 ,  0.65808032],\n",
       "        [ 0.75474648,  2.06747728, -0.10626205, ..., -0.25495829,\n",
       "          1.19994239,  0.24993916]],\n",
       "\n",
       "       ...,\n",
       "\n",
       "       [[-0.67402062,  0.94007638,  0.25365826, ..., -0.6163423 ,\n",
       "          1.41931082,  0.44995185],\n",
       "        [-0.59329354,  0.42805063,  0.115255  , ..., -0.6424235 ,\n",
       "          0.72222101,  1.13021663],\n",
       "        [-1.1897893 ,  0.70115526,  1.79308766, ...,  1.31044318,\n",
       "         -1.12651643,  0.28611115],\n",
       "        ...,\n",
       "        [ 0.953624  , -1.11675804, -0.2757705 , ...,  0.32916712,\n",
       "          0.18616205,  0.09234523],\n",
       "        [-0.71253316, -1.12694123, -0.76546086, ...,  0.24971697,\n",
       "          0.97397921,  0.33485211],\n",
       "        [-0.12174843,  1.51747712, -1.60851183, ...,  0.545903  ,\n",
       "         -1.04676643,  1.70551669]],\n",
       "\n",
       "       [[ 2.48135013, -0.14272992, -0.11286863, ..., -1.28903602,\n",
       "         -1.06227702, -0.61094879],\n",
       "        [ 1.38345943,  0.64385024,  0.91882637, ..., -0.86321779,\n",
       "          2.29396638,  0.1912258 ],\n",
       "        [ 0.00682581,  0.08128075,  0.20927319, ..., -0.69002343,\n",
       "          0.00452628, -0.12919177],\n",
       "        ...,\n",
       "        [ 0.20422142,  0.25068682,  2.72122206, ...,  0.96233951,\n",
       "         -1.12990522,  0.61154604],\n",
       "        [ 0.12876932,  0.14326171,  0.75157872, ...,  1.45640353,\n",
       "          1.32939025,  0.34223978],\n",
       "        [-0.04024676, -1.17032658,  0.30324587, ..., -0.72245715,\n",
       "          0.48632567,  0.15492432]],\n",
       "\n",
       "       [[ 0.2335855 , -0.88660125, -0.54952447, ..., -2.48334425,\n",
       "          1.37643881,  0.03696978],\n",
       "        [-1.66888316, -0.20887819, -1.74462508, ...,  0.11398666,\n",
       "          0.48528857,  0.79516291],\n",
       "        [ 0.52654922, -0.447599  ,  0.98131368, ..., -0.23571587,\n",
       "          0.10675467, -0.95775051],\n",
       "        ...,\n",
       "        [-0.06637611, -0.46133701, -0.4284954 , ..., -0.19918617,\n",
       "         -0.20312397, -2.02387059],\n",
       "        [ 0.69825588,  1.01636605,  0.71501966, ..., -0.19089841,\n",
       "          0.34447765, -0.23146673],\n",
       "        [ 0.37185051, -0.56998687,  0.77816866, ...,  1.24239232,\n",
       "          0.66563169,  0.43147517]]])"
      ]
     },
     "execution_count": 15,
     "metadata": {},
     "output_type": "execute_result"
    }
   ],
   "source": [
    "np.random.randn(10,100,20)"
   ]
  },
  {
   "cell_type": "markdown",
   "id": "b3d04bdb",
   "metadata": {},
   "source": [
    "array attributes"
   ]
  },
  {
   "cell_type": "code",
   "execution_count": 17,
   "id": "c9e89e8c",
   "metadata": {},
   "outputs": [],
   "source": [
    "arr = np.arange(25)"
   ]
  },
  {
   "cell_type": "code",
   "execution_count": 18,
   "id": "0d202049",
   "metadata": {},
   "outputs": [],
   "source": [
    "ranarr = np.random.randint(0,50,10)"
   ]
  },
  {
   "cell_type": "code",
   "execution_count": 19,
   "id": "93c77515",
   "metadata": {},
   "outputs": [
    {
     "data": {
      "text/plain": [
       "array([ 0,  1,  2,  3,  4,  5,  6,  7,  8,  9, 10, 11, 12, 13, 14, 15, 16,\n",
       "       17, 18, 19, 20, 21, 22, 23, 24])"
      ]
     },
     "execution_count": 19,
     "metadata": {},
     "output_type": "execute_result"
    }
   ],
   "source": [
    "arr"
   ]
  },
  {
   "cell_type": "code",
   "execution_count": 20,
   "id": "fc86ca8c",
   "metadata": {},
   "outputs": [
    {
     "data": {
      "text/plain": [
       "array([24, 20, 23,  5, 13, 32, 38, 16, 22,  3])"
      ]
     },
     "execution_count": 20,
     "metadata": {},
     "output_type": "execute_result"
    }
   ],
   "source": [
    "ranarr"
   ]
  },
  {
   "cell_type": "code",
   "execution_count": 21,
   "id": "b020c068",
   "metadata": {},
   "outputs": [
    {
     "data": {
      "text/plain": [
       "array([[ 0,  1,  2,  3,  4],\n",
       "       [ 5,  6,  7,  8,  9],\n",
       "       [10, 11, 12, 13, 14],\n",
       "       [15, 16, 17, 18, 19],\n",
       "       [20, 21, 22, 23, 24]])"
      ]
     },
     "execution_count": 21,
     "metadata": {},
     "output_type": "execute_result"
    }
   ],
   "source": [
    "arr.reshape(5,5)"
   ]
  },
  {
   "cell_type": "code",
   "execution_count": 27,
   "id": "b02653a8",
   "metadata": {},
   "outputs": [
    {
     "data": {
      "text/plain": [
       "(1, 25)"
      ]
     },
     "execution_count": 27,
     "metadata": {},
     "output_type": "execute_result"
    }
   ],
   "source": [
    "arr.reshape(1,25).shape"
   ]
  },
  {
   "cell_type": "code",
   "execution_count": 29,
   "id": "d7abea67",
   "metadata": {},
   "outputs": [
    {
     "data": {
      "text/plain": [
       "(25,)"
      ]
     },
     "execution_count": 29,
     "metadata": {},
     "output_type": "execute_result"
    }
   ],
   "source": [
    "arr.shape"
   ]
  },
  {
   "cell_type": "code",
   "execution_count": 30,
   "id": "5daf00d8",
   "metadata": {},
   "outputs": [
    {
     "data": {
      "text/plain": [
       "3"
      ]
     },
     "execution_count": 30,
     "metadata": {},
     "output_type": "execute_result"
    }
   ],
   "source": [
    "ranarr.min()"
   ]
  },
  {
   "cell_type": "code",
   "execution_count": 31,
   "id": "57b539f5",
   "metadata": {},
   "outputs": [
    {
     "data": {
      "text/plain": [
       "9"
      ]
     },
     "execution_count": 31,
     "metadata": {},
     "output_type": "execute_result"
    }
   ],
   "source": [
    "ranarr.argmin()"
   ]
  },
  {
   "cell_type": "markdown",
   "id": "f8aa82af",
   "metadata": {},
   "source": [
    "numpy indexing"
   ]
  },
  {
   "cell_type": "code",
   "execution_count": 37,
   "id": "7be08d3b",
   "metadata": {},
   "outputs": [],
   "source": [
    "arr = np.arange(0,11)"
   ]
  },
  {
   "cell_type": "raw",
   "id": "e40ae083",
   "metadata": {},
   "source": [
    "arr"
   ]
  },
  {
   "cell_type": "code",
   "execution_count": 38,
   "id": "2e68b386",
   "metadata": {},
   "outputs": [
    {
     "name": "stdout",
     "output_type": "stream",
     "text": [
      "[ 0  1  2  3  4  5  6  7  8  9 10]\n"
     ]
    }
   ],
   "source": [
    "print(arr)"
   ]
  },
  {
   "cell_type": "code",
   "execution_count": 39,
   "id": "5071cbcc",
   "metadata": {},
   "outputs": [
    {
     "data": {
      "text/plain": [
       "7"
      ]
     },
     "execution_count": 39,
     "metadata": {},
     "output_type": "execute_result"
    }
   ],
   "source": [
    "arr[7]"
   ]
  },
  {
   "cell_type": "code",
   "execution_count": 40,
   "id": "13188ed4",
   "metadata": {},
   "outputs": [
    {
     "data": {
      "text/plain": [
       "array([1, 2, 3, 4, 5, 6, 7])"
      ]
     },
     "execution_count": 40,
     "metadata": {},
     "output_type": "execute_result"
    }
   ],
   "source": [
    " arr[1:8]"
   ]
  },
  {
   "cell_type": "code",
   "execution_count": 41,
   "id": "83898cce",
   "metadata": {},
   "outputs": [],
   "source": [
    "arr[0:5]=100"
   ]
  },
  {
   "cell_type": "code",
   "execution_count": 42,
   "id": "bbef99ae",
   "metadata": {},
   "outputs": [
    {
     "data": {
      "text/plain": [
       "array([100, 100, 100, 100, 100,   5,   6,   7,   8,   9,  10])"
      ]
     },
     "execution_count": 42,
     "metadata": {},
     "output_type": "execute_result"
    }
   ],
   "source": [
    "arr"
   ]
  },
  {
   "cell_type": "code",
   "execution_count": 68,
   "id": "13bfe7a0",
   "metadata": {},
   "outputs": [],
   "source": [
    "slice_of_arr=arr[0:5]"
   ]
  },
  {
   "cell_type": "code",
   "execution_count": 69,
   "id": "ddb22b8b",
   "metadata": {},
   "outputs": [
    {
     "data": {
      "text/plain": [
       "array([99, 99, 99, 99, 99])"
      ]
     },
     "execution_count": 69,
     "metadata": {},
     "output_type": "execute_result"
    }
   ],
   "source": [
    "slice_of_arr"
   ]
  },
  {
   "cell_type": "code",
   "execution_count": 70,
   "id": "7d2a748e",
   "metadata": {},
   "outputs": [],
   "source": [
    "slice_of_arr[:]=99"
   ]
  },
  {
   "cell_type": "code",
   "execution_count": 66,
   "id": "21f56d0d",
   "metadata": {},
   "outputs": [
    {
     "data": {
      "text/plain": [
       "array([99, 99, 99, 99, 99, 99])"
      ]
     },
     "execution_count": 66,
     "metadata": {},
     "output_type": "execute_result"
    }
   ],
   "source": [
    "slice_of_arr"
   ]
  },
  {
   "cell_type": "code",
   "execution_count": 71,
   "id": "c2d30595",
   "metadata": {},
   "outputs": [
    {
     "data": {
      "text/plain": [
       "array([99, 99, 99, 99, 99, 99,  6,  7,  8,  9, 10])"
      ]
     },
     "execution_count": 71,
     "metadata": {},
     "output_type": "execute_result"
    }
   ],
   "source": [
    "arr"
   ]
  },
  {
   "cell_type": "code",
   "execution_count": 49,
   "id": "b11fe86c",
   "metadata": {},
   "outputs": [],
   "source": [
    "arr_cpy=arr.copy()"
   ]
  },
  {
   "cell_type": "code",
   "execution_count": 50,
   "id": "72629be7",
   "metadata": {},
   "outputs": [
    {
     "data": {
      "text/plain": [
       "array([99, 99, 99, 99, 99, 99,  6,  7,  8,  9, 10])"
      ]
     },
     "execution_count": 50,
     "metadata": {},
     "output_type": "execute_result"
    }
   ],
   "source": [
    "arr_cpy"
   ]
  },
  {
   "cell_type": "raw",
   "id": "f0bd0437",
   "metadata": {},
   "source": [
    "slice_cpy=arr_cpy[0:5]"
   ]
  },
  {
   "cell_type": "code",
   "execution_count": 72,
   "id": "4fe24d0b",
   "metadata": {},
   "outputs": [],
   "source": [
    "import numpy as np"
   ]
  },
  {
   "cell_type": "code",
   "execution_count": 77,
   "id": "8a829123",
   "metadata": {},
   "outputs": [],
   "source": [
    "arr_2d = np.array(([5,10,15],[20,25,30],[35,40,45]))"
   ]
  },
  {
   "cell_type": "raw",
   "id": "a3e1c3df",
   "metadata": {},
   "source": [
    "print(arr_2d)"
   ]
  },
  {
   "cell_type": "code",
   "execution_count": 16,
   "id": "24dd8876",
   "metadata": {},
   "outputs": [],
   "source": [
    "aarr_nw = np.arange(50).reshape(5,10)"
   ]
  },
  {
   "cell_type": "code",
   "execution_count": 17,
   "id": "e171c1df",
   "metadata": {},
   "outputs": [
    {
     "data": {
      "text/plain": [
       "array([[ 0,  1,  2,  3,  4,  5,  6,  7,  8,  9],\n",
       "       [10, 11, 12, 13, 14, 15, 16, 17, 18, 19],\n",
       "       [20, 21, 22, 23, 24, 25, 26, 27, 28, 29],\n",
       "       [30, 31, 32, 33, 34, 35, 36, 37, 38, 39],\n",
       "       [40, 41, 42, 43, 44, 45, 46, 47, 48, 49]])"
      ]
     },
     "execution_count": 17,
     "metadata": {},
     "output_type": "execute_result"
    }
   ],
   "source": [
    "aarr_nw"
   ]
  },
  {
   "cell_type": "code",
   "execution_count": 20,
   "id": "9c239c51",
   "metadata": {},
   "outputs": [
    {
     "data": {
      "text/plain": [
       "array([[25, 26],\n",
       "       [35, 36]])"
      ]
     },
     "execution_count": 20,
     "metadata": {},
     "output_type": "execute_result"
    }
   ],
   "source": [
    "aarr_nw[2:4,5:7]"
   ]
  },
  {
   "cell_type": "code",
   "execution_count": 21,
   "id": "9c9b286a",
   "metadata": {},
   "outputs": [],
   "source": [
    "ar = np.arange(0,11)"
   ]
  },
  {
   "cell_type": "code",
   "execution_count": 22,
   "id": "2b2264bf",
   "metadata": {},
   "outputs": [
    {
     "data": {
      "text/plain": [
       "array([ 0,  1,  2,  3,  4,  5,  6,  7,  8,  9, 10])"
      ]
     },
     "execution_count": 22,
     "metadata": {},
     "output_type": "execute_result"
    }
   ],
   "source": [
    "ar"
   ]
  },
  {
   "cell_type": "code",
   "execution_count": 23,
   "id": "9e6fa160",
   "metadata": {},
   "outputs": [
    {
     "data": {
      "text/plain": [
       "array([ 0,  2,  4,  6,  8, 10, 12, 14, 16, 18, 20])"
      ]
     },
     "execution_count": 23,
     "metadata": {},
     "output_type": "execute_result"
    }
   ],
   "source": [
    "ar + ar"
   ]
  },
  {
   "cell_type": "code",
   "execution_count": 24,
   "id": "202edca2",
   "metadata": {},
   "outputs": [
    {
     "data": {
      "text/plain": [
       "array([  0,   1,   4,   9,  16,  25,  36,  49,  64,  81, 100])"
      ]
     },
     "execution_count": 24,
     "metadata": {},
     "output_type": "execute_result"
    }
   ],
   "source": [
    "ar * ar"
   ]
  },
  {
   "cell_type": "code",
   "execution_count": 25,
   "id": "00085420",
   "metadata": {},
   "outputs": [
    {
     "name": "stderr",
     "output_type": "stream",
     "text": [
      "C:\\Users\\ram14\\AppData\\Local\\Temp\\ipykernel_1824\\1071685828.py:1: RuntimeWarning: invalid value encountered in divide\n",
      "  ar / ar\n"
     ]
    },
    {
     "data": {
      "text/plain": [
       "array([nan,  1.,  1.,  1.,  1.,  1.,  1.,  1.,  1.,  1.,  1.])"
      ]
     },
     "execution_count": 25,
     "metadata": {},
     "output_type": "execute_result"
    }
   ],
   "source": [
    "ar / ar"
   ]
  },
  {
   "cell_type": "code",
   "execution_count": 26,
   "id": "817a3824",
   "metadata": {},
   "outputs": [
    {
     "name": "stderr",
     "output_type": "stream",
     "text": [
      "C:\\Users\\ram14\\AppData\\Local\\Temp\\ipykernel_1824\\3285001156.py:1: RuntimeWarning: divide by zero encountered in remainder\n",
      "  ar % ar\n"
     ]
    },
    {
     "data": {
      "text/plain": [
       "array([0, 0, 0, 0, 0, 0, 0, 0, 0, 0, 0])"
      ]
     },
     "execution_count": 26,
     "metadata": {},
     "output_type": "execute_result"
    }
   ],
   "source": [
    "ar % ar"
   ]
  },
  {
   "cell_type": "code",
   "execution_count": 27,
   "id": "b0e226ca",
   "metadata": {},
   "outputs": [
    {
     "data": {
      "text/plain": [
       "10"
      ]
     },
     "execution_count": 27,
     "metadata": {},
     "output_type": "execute_result"
    }
   ],
   "source": [
    "np.max(ar)"
   ]
  },
  {
   "cell_type": "code",
   "execution_count": 28,
   "id": "009d02ca",
   "metadata": {},
   "outputs": [
    {
     "data": {
      "text/plain": [
       "array([1.00000000e+00, 2.71828183e+00, 7.38905610e+00, 2.00855369e+01,\n",
       "       5.45981500e+01, 1.48413159e+02, 4.03428793e+02, 1.09663316e+03,\n",
       "       2.98095799e+03, 8.10308393e+03, 2.20264658e+04])"
      ]
     },
     "execution_count": 28,
     "metadata": {},
     "output_type": "execute_result"
    }
   ],
   "source": [
    "np.exp(ar)"
   ]
  },
  {
   "cell_type": "code",
   "execution_count": 29,
   "id": "6b8259cd",
   "metadata": {},
   "outputs": [
    {
     "name": "stderr",
     "output_type": "stream",
     "text": [
      "C:\\Users\\ram14\\AppData\\Local\\Temp\\ipykernel_1824\\3877308065.py:1: RuntimeWarning: divide by zero encountered in log\n",
      "  np.log(ar)\n"
     ]
    },
    {
     "data": {
      "text/plain": [
       "array([      -inf, 0.        , 0.69314718, 1.09861229, 1.38629436,\n",
       "       1.60943791, 1.79175947, 1.94591015, 2.07944154, 2.19722458,\n",
       "       2.30258509])"
      ]
     },
     "execution_count": 29,
     "metadata": {},
     "output_type": "execute_result"
    }
   ],
   "source": [
    "np.log(ar)"
   ]
  },
  {
   "cell_type": "code",
   "execution_count": 30,
   "id": "9d74076b",
   "metadata": {},
   "outputs": [
    {
     "data": {
      "text/plain": [
       "10"
      ]
     },
     "execution_count": 30,
     "metadata": {},
     "output_type": "execute_result"
    }
   ],
   "source": [
    "ar.argmax()"
   ]
  },
  {
   "cell_type": "code",
   "execution_count": 31,
   "id": "cf6d1e5b",
   "metadata": {},
   "outputs": [
    {
     "data": {
      "text/plain": [
       "array([0., 0., 0., 0., 0., 0., 0., 0., 0., 0.])"
      ]
     },
     "execution_count": 31,
     "metadata": {},
     "output_type": "execute_result"
    }
   ],
   "source": [
    "np.zeros(10)"
   ]
  },
  {
   "cell_type": "code",
   "execution_count": 34,
   "id": "c7caf481",
   "metadata": {},
   "outputs": [],
   "source": [
    "val = np.ones(10)"
   ]
  },
  {
   "cell_type": "code",
   "execution_count": 35,
   "id": "6b60d835",
   "metadata": {},
   "outputs": [
    {
     "data": {
      "text/plain": [
       "array([5., 5., 5., 5., 5., 5., 5., 5., 5., 5.])"
      ]
     },
     "execution_count": 35,
     "metadata": {},
     "output_type": "execute_result"
    }
   ],
   "source": [
    "val * 5"
   ]
  },
  {
   "cell_type": "code",
   "execution_count": 36,
   "id": "37f92e1d",
   "metadata": {},
   "outputs": [
    {
     "data": {
      "text/plain": [
       "0"
      ]
     },
     "execution_count": 36,
     "metadata": {},
     "output_type": "execute_result"
    }
   ],
   "source": [
    "np.random.randint(0,1)"
   ]
  },
  {
   "cell_type": "code",
   "execution_count": null,
   "id": "42385277",
   "metadata": {},
   "outputs": [],
   "source": []
  }
 ],
 "metadata": {
  "kernelspec": {
   "display_name": "Python 3 (ipykernel)",
   "language": "python",
   "name": "python3"
  },
  "language_info": {
   "codemirror_mode": {
    "name": "ipython",
    "version": 3
   },
   "file_extension": ".py",
   "mimetype": "text/x-python",
   "name": "python",
   "nbconvert_exporter": "python",
   "pygments_lexer": "ipython3",
   "version": "3.10.9"
  }
 },
 "nbformat": 4,
 "nbformat_minor": 5
}
